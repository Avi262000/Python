{
 "cells": [
  {
   "cell_type": "markdown",
   "id": "d0be40d7",
   "metadata": {},
   "source": [
    "# NUMPY : PACKAGE FOR MULTIDIMENSIONAL ARRAY\n",
    "\n",
    "    Handling with numerical data\n",
    "    vector(1d)\n",
    "    Matrrix(2d or 1d)"
   ]
  },
  {
   "cell_type": "code",
   "execution_count": 3,
   "id": "16c578d9",
   "metadata": {},
   "outputs": [],
   "source": [
    "import numpy as np"
   ]
  },
  {
   "cell_type": "markdown",
   "id": "57b1e795",
   "metadata": {},
   "source": [
    "### create numpy array"
   ]
  },
  {
   "cell_type": "code",
   "execution_count": 3,
   "id": "e91400d1",
   "metadata": {},
   "outputs": [
    {
     "data": {
      "text/plain": [
       "array([1, 2, 3, 4])"
      ]
     },
     "execution_count": 3,
     "metadata": {},
     "output_type": "execute_result"
    }
   ],
   "source": [
    "list1 = [1,2,3,4]\n",
    "arr1 = np.array(list1)\n",
    "arr1"
   ]
  },
  {
   "cell_type": "code",
   "execution_count": 4,
   "id": "4477f0f8",
   "metadata": {},
   "outputs": [
    {
     "data": {
      "text/plain": [
       "array([[ 2,  4,  6],\n",
       "       [ 3,  6,  9],\n",
       "       [ 4,  8, 12],\n",
       "       [ 5, 10, 15]])"
      ]
     },
     "execution_count": 4,
     "metadata": {},
     "output_type": "execute_result"
    }
   ],
   "source": [
    "listoflists = [[2,4,6],[3,6,9],[4,8,12],[5,10,15]]\n",
    "np.array(listoflists)"
   ]
  },
  {
   "cell_type": "markdown",
   "id": "aa1ca961",
   "metadata": {},
   "source": [
    "### generate array of series of numbers"
   ]
  },
  {
   "cell_type": "code",
   "execution_count": 5,
   "id": "3a83cbe6",
   "metadata": {},
   "outputs": [
    {
     "data": {
      "text/plain": [
       "array([ 1,  2,  3,  4,  5,  6,  7,  8,  9, 10, 11, 12, 13, 14, 15, 16, 17,\n",
       "       18, 19, 20, 21, 22, 23, 24, 25, 26, 27, 28, 29, 30, 31, 32, 33, 34,\n",
       "       35, 36, 37, 38, 39, 40, 41, 42, 43, 44, 45, 46, 47, 48, 49])"
      ]
     },
     "execution_count": 5,
     "metadata": {},
     "output_type": "execute_result"
    }
   ],
   "source": [
    "np.arange(1,50)"
   ]
  },
  {
   "cell_type": "code",
   "execution_count": 6,
   "id": "a952ad66",
   "metadata": {},
   "outputs": [
    {
     "data": {
      "text/plain": [
       "array([ 5, 10, 15, 20, 25, 30, 35, 40, 45, 50, 55, 60, 65, 70, 75, 80, 85])"
      ]
     },
     "execution_count": 6,
     "metadata": {},
     "output_type": "execute_result"
    }
   ],
   "source": [
    "np.arange(5,90,5) ## stepsize 5"
   ]
  },
  {
   "cell_type": "code",
   "execution_count": 7,
   "id": "6d1379ac",
   "metadata": {},
   "outputs": [
    {
     "data": {
      "text/plain": [
       "array([0., 0., 0., 0., 0., 0., 0., 0., 0., 0.])"
      ]
     },
     "execution_count": 7,
     "metadata": {},
     "output_type": "execute_result"
    }
   ],
   "source": [
    "np.zeros(10) ## array of 10 zeros"
   ]
  },
  {
   "cell_type": "code",
   "execution_count": 8,
   "id": "742621b9",
   "metadata": {},
   "outputs": [
    {
     "data": {
      "text/plain": [
       "array([0, 0, 0, 0, 0, 0, 0, 0, 0, 0])"
      ]
     },
     "execution_count": 8,
     "metadata": {},
     "output_type": "execute_result"
    }
   ],
   "source": [
    "np.zeros(10,dtype = int) ## datatype integer"
   ]
  },
  {
   "cell_type": "code",
   "execution_count": 14,
   "id": "0452d281",
   "metadata": {},
   "outputs": [
    {
     "data": {
      "text/plain": [
       "array([[0., 0., 0., 0.],\n",
       "       [0., 0., 0., 0.],\n",
       "       [0., 0., 0., 0.]])"
      ]
     },
     "execution_count": 14,
     "metadata": {},
     "output_type": "execute_result"
    }
   ],
   "source": [
    "np.zeros((3,4)) ## 3x4 matrix of each element 0"
   ]
  },
  {
   "cell_type": "code",
   "execution_count": 9,
   "id": "574cd7b6",
   "metadata": {},
   "outputs": [
    {
     "data": {
      "text/plain": [
       "array([1., 1., 1., 1., 1., 1., 1., 1., 1., 1.])"
      ]
     },
     "execution_count": 9,
     "metadata": {},
     "output_type": "execute_result"
    }
   ],
   "source": [
    "np.ones(10) ## array of 10 ones"
   ]
  },
  {
   "cell_type": "code",
   "execution_count": 10,
   "id": "dc9d0970",
   "metadata": {},
   "outputs": [
    {
     "data": {
      "text/plain": [
       "array([1, 1, 1, 1, 1, 1, 1, 1, 1, 1])"
      ]
     },
     "execution_count": 10,
     "metadata": {},
     "output_type": "execute_result"
    }
   ],
   "source": [
    "np.ones(10,dtype = int) ## datatype integer"
   ]
  },
  {
   "cell_type": "code",
   "execution_count": 13,
   "id": "2b524ba0",
   "metadata": {},
   "outputs": [
    {
     "data": {
      "text/plain": [
       "array([[1., 1., 1., 1.],\n",
       "       [1., 1., 1., 1.],\n",
       "       [1., 1., 1., 1.],\n",
       "       [1., 1., 1., 1.],\n",
       "       [1., 1., 1., 1.]])"
      ]
     },
     "execution_count": 13,
     "metadata": {},
     "output_type": "execute_result"
    }
   ],
   "source": [
    "np.ones((5,4)) ## 5x4 matrix of each element 1"
   ]
  },
  {
   "cell_type": "code",
   "execution_count": 16,
   "id": "ff6a1dcd",
   "metadata": {},
   "outputs": [
    {
     "data": {
      "text/plain": [
       "array([[1, 0, 0, 0, 0, 0],\n",
       "       [0, 1, 0, 0, 0, 0],\n",
       "       [0, 0, 1, 0, 0, 0],\n",
       "       [0, 0, 0, 1, 0, 0],\n",
       "       [0, 0, 0, 0, 1, 0],\n",
       "       [0, 0, 0, 0, 0, 1]])"
      ]
     },
     "execution_count": 16,
     "metadata": {},
     "output_type": "execute_result"
    }
   ],
   "source": [
    "np.eye(6,dtype=int) ## Identity matrix"
   ]
  },
  {
   "cell_type": "code",
   "execution_count": 17,
   "id": "c23e3898",
   "metadata": {},
   "outputs": [
    {
     "data": {
      "text/plain": [
       "array([ 0.        ,  2.85714286,  5.71428571,  8.57142857, 11.42857143,\n",
       "       14.28571429, 17.14285714, 20.        ])"
      ]
     },
     "execution_count": 17,
     "metadata": {},
     "output_type": "execute_result"
    }
   ],
   "source": [
    "np.linspace(0,20,8) ## array of 8 numbers starting from 0 to 20 and each num are equally spaced"
   ]
  },
  {
   "cell_type": "markdown",
   "id": "98f8dec3",
   "metadata": {},
   "source": [
    "### generate of random numbers of array"
   ]
  },
  {
   "cell_type": "code",
   "execution_count": 20,
   "id": "f8f36f40",
   "metadata": {},
   "outputs": [
    {
     "data": {
      "text/plain": [
       "array([0.90115791, 0.09495586, 0.51923818, 0.21777647, 0.76062392,\n",
       "       0.24353065, 0.27672265, 0.28864478, 0.59778681, 0.71897172])"
      ]
     },
     "execution_count": 20,
     "metadata": {},
     "output_type": "execute_result"
    }
   ],
   "source": [
    "np.random.rand(10) ## random numbers of U(0,1)"
   ]
  },
  {
   "cell_type": "code",
   "execution_count": 22,
   "id": "bb57aca6",
   "metadata": {},
   "outputs": [
    {
     "data": {
      "text/plain": [
       "array([ 1.62322598,  0.99644298,  1.33135522, -0.80465839, -0.43569838,\n",
       "        0.06122464,  0.40833449,  0.79355726,  0.16400121, -0.30986255,\n",
       "       -0.05906672, -1.63408252, -2.13830064,  1.40486689,  0.24665355,\n",
       "        0.64735097,  1.12078135, -1.11344768, -1.29877041,  0.46240974,\n",
       "       -0.69845752,  1.02536636,  1.72195101, -1.73753789,  0.29064778,\n",
       "        0.65891089, -0.58693009,  1.35681385, -1.684264  ,  0.60393208,\n",
       "       -0.12392639, -0.99158791, -0.04218138,  1.75070264, -0.42425731,\n",
       "        0.75521875, -1.74837988,  0.42031779, -0.27601184,  1.19942087])"
      ]
     },
     "execution_count": 22,
     "metadata": {},
     "output_type": "execute_result"
    }
   ],
   "source": [
    "np.random.randn(40) ## random numbers of N(0,1)"
   ]
  },
  {
   "cell_type": "code",
   "execution_count": 32,
   "id": "9774cbbe",
   "metadata": {},
   "outputs": [
    {
     "data": {
      "text/plain": [
       "array([[ 0.11879222, -0.45571402,  0.55631413,  1.06700594,  0.99133189],\n",
       "       [-0.76599271, -0.61938567,  0.13603116,  1.47135152,  0.54058056],\n",
       "       [-0.19992971, -0.56748778, -1.78685421, -0.12049557,  0.9316098 ]])"
      ]
     },
     "execution_count": 32,
     "metadata": {},
     "output_type": "execute_result"
    }
   ],
   "source": [
    "np.random.randn(3,5) ## 3x5 random matrix"
   ]
  },
  {
   "cell_type": "code",
   "execution_count": 29,
   "id": "bd1f35ba",
   "metadata": {},
   "outputs": [
    {
     "data": {
      "text/plain": [
       "7"
      ]
     },
     "execution_count": 29,
     "metadata": {},
     "output_type": "execute_result"
    }
   ],
   "source": [
    "np.random.randint(2,10) ## random integer between 2 to 10 "
   ]
  },
  {
   "cell_type": "code",
   "execution_count": 31,
   "id": "1224f0be",
   "metadata": {},
   "outputs": [
    {
     "data": {
      "text/plain": [
       "array([42, 25, 34, 27, 37, 18, 29, 28, 30, 43, 19, 43, 25, 31, 34,  1, 26,\n",
       "       44, 37, 15, 32,  9, 24, 15, 19,  2, 23,  2, 11, 11, 30, 29, 43, 14,\n",
       "        7, 18, 32,  3, 34,  2, 32,  6, 21, 40, 33,  7, 27, 12,  6, 29])"
      ]
     },
     "execution_count": 31,
     "metadata": {},
     "output_type": "execute_result"
    }
   ],
   "source": [
    "np.random.randint(1,45,50) ## 50 random integer between 1 to 45"
   ]
  },
  {
   "cell_type": "markdown",
   "id": "784bdfcf",
   "metadata": {},
   "source": [
    "### summary of array or matrix"
   ]
  },
  {
   "cell_type": "code",
   "execution_count": 43,
   "id": "acee5f08",
   "metadata": {},
   "outputs": [
    {
     "data": {
      "text/plain": [
       "array([ 1.28482449,  0.13145662,  0.38477854,  0.20872881,  1.2369058 ,\n",
       "        0.55139906, -0.91520776,  0.51197089,  0.58649566,  2.12921979])"
      ]
     },
     "execution_count": 43,
     "metadata": {},
     "output_type": "execute_result"
    }
   ],
   "source": [
    "randarr = np.random.randn(10)\n",
    "randarr"
   ]
  },
  {
   "cell_type": "code",
   "execution_count": 44,
   "id": "03400c36",
   "metadata": {},
   "outputs": [
    {
     "data": {
      "text/plain": [
       "-0.9152077569123801"
      ]
     },
     "execution_count": 44,
     "metadata": {},
     "output_type": "execute_result"
    }
   ],
   "source": [
    "randarr.min() # minimum"
   ]
  },
  {
   "cell_type": "code",
   "execution_count": 45,
   "id": "4284b928",
   "metadata": {},
   "outputs": [
    {
     "data": {
      "text/plain": [
       "2.129219786068574"
      ]
     },
     "execution_count": 45,
     "metadata": {},
     "output_type": "execute_result"
    }
   ],
   "source": [
    "randarr.max() # maximum"
   ]
  },
  {
   "cell_type": "code",
   "execution_count": 46,
   "id": "e3eb346d",
   "metadata": {},
   "outputs": [
    {
     "data": {
      "text/plain": [
       "6"
      ]
     },
     "execution_count": 46,
     "metadata": {},
     "output_type": "execute_result"
    }
   ],
   "source": [
    "randarr.argmin() # index of minimum value"
   ]
  },
  {
   "cell_type": "code",
   "execution_count": 47,
   "id": "0c64488b",
   "metadata": {},
   "outputs": [
    {
     "data": {
      "text/plain": [
       "9"
      ]
     },
     "execution_count": 47,
     "metadata": {},
     "output_type": "execute_result"
    }
   ],
   "source": [
    "randarr.argmax() # index of maximum value"
   ]
  },
  {
   "cell_type": "code",
   "execution_count": 56,
   "id": "ec1f4cd9",
   "metadata": {},
   "outputs": [
    {
     "data": {
      "text/plain": [
       "dtype('float64')"
      ]
     },
     "execution_count": 56,
     "metadata": {},
     "output_type": "execute_result"
    }
   ],
   "source": [
    "randarr.dtype # datatype of randarr"
   ]
  },
  {
   "cell_type": "code",
   "execution_count": 57,
   "id": "f4de3033",
   "metadata": {},
   "outputs": [
    {
     "data": {
      "text/plain": [
       "(10,)"
      ]
     },
     "execution_count": 57,
     "metadata": {},
     "output_type": "execute_result"
    }
   ],
   "source": [
    "randarr.shape"
   ]
  },
  {
   "cell_type": "code",
   "execution_count": 62,
   "id": "a74f9c64",
   "metadata": {},
   "outputs": [
    {
     "data": {
      "text/plain": [
       "array([[ 1.28482449,  0.13145662,  0.38477854,  0.20872881,  1.2369058 ],\n",
       "       [ 0.55139906, -0.91520776,  0.51197089,  0.58649566,  2.12921979]])"
      ]
     },
     "execution_count": 62,
     "metadata": {},
     "output_type": "execute_result"
    }
   ],
   "source": [
    "randarr.reshape(2,5)"
   ]
  },
  {
   "cell_type": "markdown",
   "id": "8d67b166",
   "metadata": {},
   "source": [
    "### Accessing elements of a array(SLICING)"
   ]
  },
  {
   "cell_type": "code",
   "execution_count": 72,
   "id": "91d0192c",
   "metadata": {},
   "outputs": [
    {
     "data": {
      "text/plain": [
       "array([11, 12, 13, 14, 15, 16, 17, 18, 19, 20])"
      ]
     },
     "execution_count": 72,
     "metadata": {},
     "output_type": "execute_result"
    }
   ],
   "source": [
    "sarr = np.arange(11,21)\n",
    "sarr"
   ]
  },
  {
   "cell_type": "code",
   "execution_count": 73,
   "id": "0f66555e",
   "metadata": {},
   "outputs": [
    {
     "data": {
      "text/plain": [
       "11"
      ]
     },
     "execution_count": 73,
     "metadata": {},
     "output_type": "execute_result"
    }
   ],
   "source": [
    "sarr[0]"
   ]
  },
  {
   "cell_type": "code",
   "execution_count": 74,
   "id": "5523a2be",
   "metadata": {},
   "outputs": [
    {
     "data": {
      "text/plain": [
       "12"
      ]
     },
     "execution_count": 74,
     "metadata": {},
     "output_type": "execute_result"
    }
   ],
   "source": [
    "sarr[1]"
   ]
  },
  {
   "cell_type": "code",
   "execution_count": 75,
   "id": "e782e8b7",
   "metadata": {},
   "outputs": [
    {
     "data": {
      "text/plain": [
       "array([12, 13, 14, 15])"
      ]
     },
     "execution_count": 75,
     "metadata": {},
     "output_type": "execute_result"
    }
   ],
   "source": [
    "sarr[1:5]"
   ]
  },
  {
   "cell_type": "code",
   "execution_count": 79,
   "id": "b86670ca",
   "metadata": {},
   "outputs": [
    {
     "data": {
      "text/plain": [
       "array([12, 16])"
      ]
     },
     "execution_count": 79,
     "metadata": {},
     "output_type": "execute_result"
    }
   ],
   "source": [
    "sarr[[1,5]]"
   ]
  },
  {
   "cell_type": "code",
   "execution_count": 76,
   "id": "9f98b2e1",
   "metadata": {},
   "outputs": [
    {
     "data": {
      "text/plain": [
       "array([14, 15, 16, 17, 18, 19, 20])"
      ]
     },
     "execution_count": 76,
     "metadata": {},
     "output_type": "execute_result"
    }
   ],
   "source": [
    "sarr[3:]"
   ]
  },
  {
   "cell_type": "code",
   "execution_count": 77,
   "id": "452713bc",
   "metadata": {},
   "outputs": [
    {
     "data": {
      "text/plain": [
       "array([11, 12, 13, 14, 15, 16, 17, 18])"
      ]
     },
     "execution_count": 77,
     "metadata": {},
     "output_type": "execute_result"
    }
   ],
   "source": [
    "sarr[:8]"
   ]
  },
  {
   "cell_type": "code",
   "execution_count": 81,
   "id": "9f8846ce",
   "metadata": {},
   "outputs": [
    {
     "data": {
      "text/plain": [
       "array([11, 21, 13, 14, 15, 16, 17, 18, 19, 20])"
      ]
     },
     "execution_count": 81,
     "metadata": {},
     "output_type": "execute_result"
    }
   ],
   "source": [
    "sarr[1] = 21 ## Change the elements of index 1\n",
    "sarr"
   ]
  },
  {
   "cell_type": "markdown",
   "id": "dae02f5d",
   "metadata": {},
   "source": [
    "## Multidimensional array\n"
   ]
  },
  {
   "cell_type": "code",
   "execution_count": 7,
   "id": "9b378f7c",
   "metadata": {},
   "outputs": [
    {
     "data": {
      "text/plain": [
       "array([[12, 22, 32, 42],\n",
       "       [13, 23, 33, 43],\n",
       "       [14, 24, 34, 44]])"
      ]
     },
     "execution_count": 7,
     "metadata": {},
     "output_type": "execute_result"
    }
   ],
   "source": [
    "Multi_arr = np.array(([12,22,32,42],[13,23,33,43],[14,24,34,44]))\n",
    "Multi_arr"
   ]
  },
  {
   "cell_type": "markdown",
   "id": "46c7f730",
   "metadata": {},
   "source": [
    "## Accessing elements"
   ]
  },
  {
   "cell_type": "code",
   "execution_count": 8,
   "id": "338fdc99",
   "metadata": {},
   "outputs": [
    {
     "data": {
      "text/plain": [
       "32"
      ]
     },
     "execution_count": 8,
     "metadata": {},
     "output_type": "execute_result"
    }
   ],
   "source": [
    "Multi_arr[0,2]"
   ]
  },
  {
   "cell_type": "code",
   "execution_count": 9,
   "id": "9936f40b",
   "metadata": {},
   "outputs": [
    {
     "data": {
      "text/plain": [
       "32"
      ]
     },
     "execution_count": 9,
     "metadata": {},
     "output_type": "execute_result"
    }
   ],
   "source": [
    "Multi_arr[0][2]"
   ]
  },
  {
   "cell_type": "code",
   "execution_count": 20,
   "id": "d095c17e",
   "metadata": {},
   "outputs": [
    {
     "data": {
      "text/plain": [
       "array([13, 23, 33, 43])"
      ]
     },
     "execution_count": 20,
     "metadata": {},
     "output_type": "execute_result"
    }
   ],
   "source": [
    "Multi_arr[1,:]"
   ]
  },
  {
   "cell_type": "code",
   "execution_count": 18,
   "id": "7923f9c5",
   "metadata": {},
   "outputs": [
    {
     "data": {
      "text/plain": [
       "array([[32, 42],\n",
       "       [33, 43],\n",
       "       [34, 44]])"
      ]
     },
     "execution_count": 18,
     "metadata": {},
     "output_type": "execute_result"
    }
   ],
   "source": [
    "Multi_arr[:,(2,3)]"
   ]
  },
  {
   "cell_type": "code",
   "execution_count": 24,
   "id": "4bac48b2",
   "metadata": {},
   "outputs": [
    {
     "data": {
      "text/plain": [
       "array([12, 22, 32, 42])"
      ]
     },
     "execution_count": 24,
     "metadata": {},
     "output_type": "execute_result"
    }
   ],
   "source": [
    "Multi_arr[0]"
   ]
  },
  {
   "cell_type": "code",
   "execution_count": 26,
   "id": "baa72658",
   "metadata": {},
   "outputs": [
    {
     "data": {
      "text/plain": [
       "array([[13, 23, 33, 43],\n",
       "       [14, 24, 34, 44]])"
      ]
     },
     "execution_count": 26,
     "metadata": {},
     "output_type": "execute_result"
    }
   ],
   "source": [
    "Multi_arr[1:3]"
   ]
  },
  {
   "cell_type": "code",
   "execution_count": 32,
   "id": "e2d8fe6a",
   "metadata": {},
   "outputs": [
    {
     "data": {
      "text/plain": [
       "array([[12, 22, 32, 42],\n",
       "       [14, 24, 34, 44]])"
      ]
     },
     "execution_count": 32,
     "metadata": {},
     "output_type": "execute_result"
    }
   ],
   "source": [
    "Multi_arr[(0,2),:]"
   ]
  },
  {
   "cell_type": "markdown",
   "id": "8b1bba67",
   "metadata": {},
   "source": [
    "## Selection techniques"
   ]
  },
  {
   "cell_type": "code",
   "execution_count": 42,
   "id": "349af881",
   "metadata": {},
   "outputs": [
    {
     "data": {
      "text/plain": [
       "array([ 3,  4,  5,  6,  7,  8,  9, 10, 11, 12, 13, 14, 15, 16, 17, 18, 19,\n",
       "       20])"
      ]
     },
     "execution_count": 42,
     "metadata": {},
     "output_type": "execute_result"
    }
   ],
   "source": [
    "s_arr2 = np.arange(3,21)\n",
    "s_arr2"
   ]
  },
  {
   "cell_type": "code",
   "execution_count": 43,
   "id": "38151ef2",
   "metadata": {},
   "outputs": [
    {
     "data": {
      "text/plain": [
       "array([ True,  True, False, False, False, False, False, False, False,\n",
       "       False, False, False, False, False, False, False, False, False])"
      ]
     },
     "execution_count": 43,
     "metadata": {},
     "output_type": "execute_result"
    }
   ],
   "source": [
    "bool = s_arr2 < 5\n",
    "bool"
   ]
  },
  {
   "cell_type": "code",
   "execution_count": 44,
   "id": "b03f2169",
   "metadata": {},
   "outputs": [
    {
     "data": {
      "text/plain": [
       "array([3, 4])"
      ]
     },
     "execution_count": 44,
     "metadata": {},
     "output_type": "execute_result"
    }
   ],
   "source": [
    "s_arr2[bool]"
   ]
  },
  {
   "cell_type": "markdown",
   "id": "f1316222",
   "metadata": {},
   "source": [
    "## General Arithmetic"
   ]
  },
  {
   "cell_type": "code",
   "execution_count": 45,
   "id": "895c4211",
   "metadata": {},
   "outputs": [
    {
     "data": {
      "text/plain": [
       "array([1.73205081, 2.        , 2.23606798, 2.44948974, 2.64575131,\n",
       "       2.82842712, 3.        , 3.16227766, 3.31662479, 3.46410162,\n",
       "       3.60555128, 3.74165739, 3.87298335, 4.        , 4.12310563,\n",
       "       4.24264069, 4.35889894, 4.47213595])"
      ]
     },
     "execution_count": 45,
     "metadata": {},
     "output_type": "execute_result"
    }
   ],
   "source": [
    "np.sqrt(s_arr2)"
   ]
  },
  {
   "cell_type": "code",
   "execution_count": 46,
   "id": "634ddba0",
   "metadata": {},
   "outputs": [
    {
     "data": {
      "text/plain": [
       "array([2.00855369e+01, 5.45981500e+01, 1.48413159e+02, 4.03428793e+02,\n",
       "       1.09663316e+03, 2.98095799e+03, 8.10308393e+03, 2.20264658e+04,\n",
       "       5.98741417e+04, 1.62754791e+05, 4.42413392e+05, 1.20260428e+06,\n",
       "       3.26901737e+06, 8.88611052e+06, 2.41549528e+07, 6.56599691e+07,\n",
       "       1.78482301e+08, 4.85165195e+08])"
      ]
     },
     "execution_count": 46,
     "metadata": {},
     "output_type": "execute_result"
    }
   ],
   "source": [
    "np.exp(s_arr2)"
   ]
  },
  {
   "cell_type": "code",
   "execution_count": 47,
   "id": "4ed5524c",
   "metadata": {},
   "outputs": [
    {
     "data": {
      "text/plain": [
       "array([1.09861229, 1.38629436, 1.60943791, 1.79175947, 1.94591015,\n",
       "       2.07944154, 2.19722458, 2.30258509, 2.39789527, 2.48490665,\n",
       "       2.56494936, 2.63905733, 2.7080502 , 2.77258872, 2.83321334,\n",
       "       2.89037176, 2.94443898, 2.99573227])"
      ]
     },
     "execution_count": 47,
     "metadata": {},
     "output_type": "execute_result"
    }
   ],
   "source": [
    "np.log(s_arr2)"
   ]
  },
  {
   "cell_type": "code",
   "execution_count": 52,
   "id": "c40df561",
   "metadata": {},
   "outputs": [
    {
     "data": {
      "text/plain": [
       "array([  9,  16,  25,  36,  49,  64,  81, 100, 121, 144, 169, 196, 225,\n",
       "       256, 289, 324, 361, 400], dtype=int32)"
      ]
     },
     "execution_count": 52,
     "metadata": {},
     "output_type": "execute_result"
    }
   ],
   "source": [
    "np.square(s_arr2)"
   ]
  },
  {
   "cell_type": "code",
   "execution_count": 48,
   "id": "968047fa",
   "metadata": {},
   "outputs": [
    {
     "data": {
      "text/plain": [
       "20"
      ]
     },
     "execution_count": 48,
     "metadata": {},
     "output_type": "execute_result"
    }
   ],
   "source": [
    "np.max(s_arr2)"
   ]
  },
  {
   "cell_type": "code",
   "execution_count": 49,
   "id": "a36623b4",
   "metadata": {},
   "outputs": [
    {
     "data": {
      "text/plain": [
       "3"
      ]
     },
     "execution_count": 49,
     "metadata": {},
     "output_type": "execute_result"
    }
   ],
   "source": [
    "np.min(s_arr2)"
   ]
  },
  {
   "cell_type": "code",
   "execution_count": 50,
   "id": "7998cdab",
   "metadata": {},
   "outputs": [
    {
     "data": {
      "text/plain": [
       "0"
      ]
     },
     "execution_count": 50,
     "metadata": {},
     "output_type": "execute_result"
    }
   ],
   "source": [
    "np.argmin(s_arr2)"
   ]
  },
  {
   "cell_type": "code",
   "execution_count": 51,
   "id": "e6b6d581",
   "metadata": {},
   "outputs": [
    {
     "data": {
      "text/plain": [
       "17"
      ]
     },
     "execution_count": 51,
     "metadata": {},
     "output_type": "execute_result"
    }
   ],
   "source": [
    "np.argmax(s_arr2)"
   ]
  },
  {
   "cell_type": "code",
   "execution_count": 53,
   "id": "7cf337ad",
   "metadata": {},
   "outputs": [
    {
     "data": {
      "text/plain": [
       "5.188127472091127"
      ]
     },
     "execution_count": 53,
     "metadata": {},
     "output_type": "execute_result"
    }
   ],
   "source": [
    "np.std(s_arr2)"
   ]
  },
  {
   "cell_type": "code",
   "execution_count": 54,
   "id": "76ce847a",
   "metadata": {},
   "outputs": [
    {
     "data": {
      "text/plain": [
       "26.916666666666668"
      ]
     },
     "execution_count": 54,
     "metadata": {},
     "output_type": "execute_result"
    }
   ],
   "source": [
    "np.var(s_arr2)"
   ]
  },
  {
   "cell_type": "code",
   "execution_count": 55,
   "id": "dcce870d",
   "metadata": {},
   "outputs": [
    {
     "data": {
      "text/plain": [
       "11.5"
      ]
     },
     "execution_count": 55,
     "metadata": {},
     "output_type": "execute_result"
    }
   ],
   "source": [
    "np.mean(s_arr2)"
   ]
  },
  {
   "cell_type": "code",
   "execution_count": 57,
   "id": "7865dac5",
   "metadata": {},
   "outputs": [
    {
     "data": {
      "text/plain": [
       "array([[ 1.03160011,  0.40346316,  0.22471921,  0.97894864, -0.14690952],\n",
       "       [ 0.06078662,  1.80237094, -0.6852189 , -1.566897  , -0.56912932],\n",
       "       [-1.9223958 , -0.31445896,  0.43554305,  0.76446581,  1.328348  ],\n",
       "       [ 0.38657684,  0.68479626, -2.02374858, -1.28596108, -0.39502091]])"
      ]
     },
     "execution_count": 57,
     "metadata": {},
     "output_type": "execute_result"
    }
   ],
   "source": [
    "s_arr3 = np.random.randn(4,5)\n",
    "s_arr3"
   ]
  },
  {
   "cell_type": "code",
   "execution_count": 58,
   "id": "4ae792d1",
   "metadata": {},
   "outputs": [
    {
     "data": {
      "text/plain": [
       "array([[ 1.03,  0.4 ,  0.22,  0.98, -0.15],\n",
       "       [ 0.06,  1.8 , -0.69, -1.57, -0.57],\n",
       "       [-1.92, -0.31,  0.44,  0.76,  1.33],\n",
       "       [ 0.39,  0.68, -2.02, -1.29, -0.4 ]])"
      ]
     },
     "execution_count": 58,
     "metadata": {},
     "output_type": "execute_result"
    }
   ],
   "source": [
    "np.round(s_arr3,decimals=2)"
   ]
  },
  {
   "cell_type": "code",
   "execution_count": 60,
   "id": "7c6af98b",
   "metadata": {},
   "outputs": [
    {
     "data": {
      "text/plain": [
       "array(['apple', 'banana', 'orange'], dtype='<U6')"
      ]
     },
     "execution_count": 60,
     "metadata": {},
     "output_type": "execute_result"
    }
   ],
   "source": [
    "fruits=np.array([\"banana\",\"orange\",\"apple\",\"orange\"])\n",
    "np.unique(fruits)"
   ]
  }
 ],
 "metadata": {
  "kernelspec": {
   "display_name": "Python 3 (ipykernel)",
   "language": "python",
   "name": "python3"
  },
  "language_info": {
   "codemirror_mode": {
    "name": "ipython",
    "version": 3
   },
   "file_extension": ".py",
   "mimetype": "text/x-python",
   "name": "python",
   "nbconvert_exporter": "python",
   "pygments_lexer": "ipython3",
   "version": "3.9.7"
  }
 },
 "nbformat": 4,
 "nbformat_minor": 5
}
