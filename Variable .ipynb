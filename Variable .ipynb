{
 "cells": [
  {
   "cell_type": "markdown",
   "id": "a85ce06a",
   "metadata": {},
   "source": [
    "# Variables"
   ]
  },
  {
   "cell_type": "markdown",
   "id": "845b8d10",
   "metadata": {},
   "source": [
    "When we assign a value, a variable is created."
   ]
  },
  {
   "cell_type": "markdown",
   "id": "94904aca",
   "metadata": {},
   "source": [
    "Variables are container for storing values."
   ]
  },
  {
   "cell_type": "markdown",
   "id": "2939ee3c",
   "metadata": {},
   "source": [
    "## Rules for declaring variables."
   ]
  },
  {
   "cell_type": "markdown",
   "id": "c1ca71cb",
   "metadata": {},
   "source": [
    "### A variable name can only contain A-Z,a-z,underscore(_)"
   ]
  },
  {
   "cell_type": "markdown",
   "id": "3e36eb43",
   "metadata": {},
   "source": [
    "### variable names are case-sensitive.\n",
    "### variables name shouldnot start with numbers."
   ]
  },
  {
   "cell_type": "code",
   "execution_count": 6,
   "id": "8dd6ce99",
   "metadata": {},
   "outputs": [
    {
     "data": {
      "text/plain": [
       "5"
      ]
     },
     "execution_count": 6,
     "metadata": {},
     "output_type": "execute_result"
    }
   ],
   "source": [
    "### Declaring Variable\n",
    "x = 5\n",
    "x"
   ]
  },
  {
   "cell_type": "code",
   "execution_count": 3,
   "id": "8d2736db",
   "metadata": {},
   "outputs": [
    {
     "data": {
      "text/plain": [
       "'Avi'"
      ]
     },
     "execution_count": 3,
     "metadata": {},
     "output_type": "execute_result"
    }
   ],
   "source": [
    "Name = \"Avi\"\n",
    "Name"
   ]
  },
  {
   "cell_type": "code",
   "execution_count": 4,
   "id": "951b4f3f",
   "metadata": {},
   "outputs": [
    {
     "data": {
      "text/plain": [
       "'avi'"
      ]
     },
     "execution_count": 4,
     "metadata": {},
     "output_type": "execute_result"
    }
   ],
   "source": [
    "name = \"avi\" ## var is case sensitive\n",
    "name"
   ]
  },
  {
   "cell_type": "code",
   "execution_count": 7,
   "id": "0c804968",
   "metadata": {},
   "outputs": [
    {
     "ename": "SyntaxError",
     "evalue": "invalid syntax (Temp/ipykernel_18908/4053714218.py, line 1)",
     "output_type": "error",
     "traceback": [
      "\u001b[1;36m  File \u001b[1;32m\"C:\\Users\\patel\\AppData\\Local\\Temp/ipykernel_18908/4053714218.py\"\u001b[1;36m, line \u001b[1;32m1\u001b[0m\n\u001b[1;33m    1Nickname = \"patel\" ## var should not start with a number.\u001b[0m\n\u001b[1;37m     ^\u001b[0m\n\u001b[1;31mSyntaxError\u001b[0m\u001b[1;31m:\u001b[0m invalid syntax\n"
     ]
    }
   ],
   "source": [
    "1Nickname = \"patel\" ## var should not start with a number.\n",
    "1Nickname"
   ]
  },
  {
   "cell_type": "code",
   "execution_count": 8,
   "id": "0f4bc693",
   "metadata": {},
   "outputs": [
    {
     "ename": "SyntaxError",
     "evalue": "cannot assign to operator (Temp/ipykernel_18908/839141875.py, line 1)",
     "output_type": "error",
     "traceback": [
      "\u001b[1;36m  File \u001b[1;32m\"C:\\Users\\patel\\AppData\\Local\\Temp/ipykernel_18908/839141875.py\"\u001b[1;36m, line \u001b[1;32m1\u001b[0m\n\u001b[1;33m    Nick@name = \"Patel\"\u001b[0m\n\u001b[1;37m    ^\u001b[0m\n\u001b[1;31mSyntaxError\u001b[0m\u001b[1;31m:\u001b[0m cannot assign to operator\n"
     ]
    }
   ],
   "source": [
    "Nick@name = \"Patel\" ## no special character other than underscore is not allowed."
   ]
  },
  {
   "cell_type": "code",
   "execution_count": 9,
   "id": "e68dd5aa",
   "metadata": {},
   "outputs": [
    {
     "ename": "SyntaxError",
     "evalue": "cannot assign to operator (Temp/ipykernel_18908/3728128886.py, line 1)",
     "output_type": "error",
     "traceback": [
      "\u001b[1;36m  File \u001b[1;32m\"C:\\Users\\patel\\AppData\\Local\\Temp/ipykernel_18908/3728128886.py\"\u001b[1;36m, line \u001b[1;32m1\u001b[0m\n\u001b[1;33m    Nick*name = \"Patel\"  ## no special character other than underscore is not allowed.\u001b[0m\n\u001b[1;37m    ^\u001b[0m\n\u001b[1;31mSyntaxError\u001b[0m\u001b[1;31m:\u001b[0m cannot assign to operator\n"
     ]
    }
   ],
   "source": [
    "Nick*name = \"Patel\"  ## no special character other than underscore is not allowed."
   ]
  },
  {
   "cell_type": "code",
   "execution_count": 11,
   "id": "cdfefcec",
   "metadata": {},
   "outputs": [
    {
     "data": {
      "text/plain": [
       "21"
      ]
     },
     "execution_count": 11,
     "metadata": {},
     "output_type": "execute_result"
    }
   ],
   "source": [
    "_age = 21 ## underscore is only allowed\n",
    "_age"
   ]
  }
 ],
 "metadata": {
  "kernelspec": {
   "display_name": "Python 3 (ipykernel)",
   "language": "python",
   "name": "python3"
  },
  "language_info": {
   "codemirror_mode": {
    "name": "ipython",
    "version": 3
   },
   "file_extension": ".py",
   "mimetype": "text/x-python",
   "name": "python",
   "nbconvert_exporter": "python",
   "pygments_lexer": "ipython3",
   "version": "3.9.7"
  }
 },
 "nbformat": 4,
 "nbformat_minor": 5
}
